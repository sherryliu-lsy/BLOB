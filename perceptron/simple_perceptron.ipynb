{
 "cells": [
  {
   "cell_type": "markdown",
   "metadata": {},
   "source": [
    "**Perceptrons**\n",
    "- Simplest type of artificial neural network; foundational building block for more complex neural networks\n",
    "Components: \n",
    "- Input Features: Numerical Data points that the perceptron processes\n",
    "- - Weights: Each feature is assigned a weight reflecting the significance of their impact on the prediction\n",
    "- - Summation: The weighted sum of input features. The b variable here represents a bias term that is used to shift the decision boundary\n",
    "- - Activation function: outputs 0 or 1 representing whether or not the perception “fires” according to input value\n",
    "or doesn’t have to be this step function for modern\n",
    "\n",
    "Perceptron Algorithm\n",
    "- Initialize Weights (weights and bias initialized to zeros or small random values)\n",
    "- Predict: Given training example, compute weighted sums and activation function  to get predicted output\n",
    "- Update Weights: If prediction is incorrect (output differs from expected), the weights and bias are updated\n",
    "- - If it predicts 0 when it should predict 1, weights & bias are increased\n",
    "- - If it predicts 1 when it should predict 0, weights & bias are decreased\n",
    "- Repeat: Process is repeated for a certain number of epochs\n"
   ]
  },
  {
   "cell_type": "markdown",
   "metadata": {},
   "source": [
    "**Simple Perceptron Example**\n",
    "We try to solve the AND Gate problem\n",
    "| x1  | x2  | y   |\n",
    "| :-- | :-: | --:  |\n",
    "| 0   | 0   | 0   |\n",
    "| 0   | 1   | 0   |\n",
    "| 1   | 0   | 0   |\n",
    "| 1   | 1   | 1   |\n",
    "- The Gate only returns true when x1 and x2 are both 1 (true)"
   ]
  },
  {
   "cell_type": "markdown",
   "metadata": {},
   "source": [
    "**Imports**"
   ]
  },
  {
   "cell_type": "code",
   "execution_count": 183,
   "metadata": {},
   "outputs": [],
   "source": [
    "import numpy as np"
   ]
  },
  {
   "cell_type": "code",
   "execution_count": 184,
   "metadata": {},
   "outputs": [],
   "source": [
    "features = np.array([\n",
    "\t[0, 0],\n",
    "\t[0, 1],\n",
    "\t[1, 0],\n",
    "\t[1,1]\n",
    "])"
   ]
  },
  {
   "cell_type": "code",
   "execution_count": 185,
   "metadata": {},
   "outputs": [],
   "source": [
    "labels = np.array([0, 0,0, 1])"
   ]
  },
  {
   "cell_type": "markdown",
   "metadata": {},
   "source": [
    "Note that initial weights are usually set to 0 or a small random number"
   ]
  },
  {
   "cell_type": "code",
   "execution_count": 186,
   "metadata": {},
   "outputs": [],
   "source": [
    "w = [0.9, 0.8]"
   ]
  },
  {
   "cell_type": "code",
   "execution_count": 187,
   "metadata": {},
   "outputs": [],
   "source": [
    "threshold = 0.5"
   ]
  },
  {
   "cell_type": "code",
   "execution_count": 188,
   "metadata": {},
   "outputs": [],
   "source": [
    "learning_rate = 0.1\n",
    "epoch = 20"
   ]
  },
  {
   "cell_type": "markdown",
   "metadata": {},
   "source": [
    "**Percepron Algorithm**"
   ]
  },
  {
   "cell_type": "code",
   "execution_count": 189,
   "metadata": {},
   "outputs": [
    {
     "name": "stdout",
     "output_type": "stream",
     "text": [
      "epoch 0\n",
      "epoch,\n",
      "prediction is: 0 actual value is: 0  (error 0 )\n",
      "epoch,\n",
      "prediction is: 1 actual value is: 0  (error -1 )\n",
      "epoch,\n",
      "prediction is: 1 actual value is: 0  (error -1 )\n",
      "epoch,\n",
      "prediction is: 1 actual value is: 1  (error 0 )\n",
      "----\n",
      "epoch 1\n",
      "epoch,\n",
      "prediction is: 0 actual value is: 0  (error 0 )\n",
      "epoch,\n",
      "prediction is: 1 actual value is: 0  (error -1 )\n",
      "epoch,\n",
      "prediction is: 1 actual value is: 0  (error -1 )\n",
      "epoch,\n",
      "prediction is: 1 actual value is: 1  (error 0 )\n",
      "----\n",
      "epoch 2\n",
      "epoch,\n",
      "prediction is: 0 actual value is: 0  (error 0 )\n",
      "epoch,\n",
      "prediction is: 0 actual value is: 0  (error 0 )\n",
      "epoch,\n",
      "prediction is: 1 actual value is: 0  (error -1 )\n",
      "epoch,\n",
      "prediction is: 1 actual value is: 1  (error 0 )\n",
      "----\n",
      "epoch 3\n",
      "epoch,\n",
      "prediction is: 0 actual value is: 0  (error 0 )\n",
      "epoch,\n",
      "prediction is: 0 actual value is: 0  (error 0 )\n",
      "epoch,\n",
      "prediction is: 0 actual value is: 0  (error 0 )\n",
      "epoch,\n",
      "prediction is: 1 actual value is: 1  (error 0 )\n",
      "----\n"
     ]
    }
   ],
   "source": [
    "for j in range(0, epoch):\n",
    "\tprint(\"epoch\", j)\n",
    "\tglobal_delta = 0 # this tells is if we have accurately predicted\n",
    "\tfor i in range(0, features.shape[0]): # \tfeatures.shape[0] refers to nummer of rows\n",
    "\t\t# print(features[i])\n",
    "\t\tprint(\"epoch,\" )\n",
    "\t\tactual = labels[i]\n",
    "\n",
    "\t\tinstance = features[i]\n",
    "\n",
    "\t\tx0 = instance[0]\n",
    "\t\tx1 = instance[1]\n",
    "\n",
    "\t\tsum_unit = x0 * w[0] + x1 * w[1] # Summation step\n",
    "\n",
    "\t\tif sum_unit > threshold: # outputs 1 or 0 depending on if our summation is below or above the threshold\n",
    "\t\t\tfire = 1\n",
    "\t\telse:\n",
    "\t\t\tfire = 0\n",
    "\n",
    "\t\tdelta = actual - fire\n",
    "\t\tglobal_delta = global_delta + abs(delta)\n",
    "\n",
    "\t\tprint(\"prediction is:\", fire, \"actual value is:\", labels[i], \" (error\", delta, \")\")\n",
    "\t\tw[0] = w[0] + delta * learning_rate # adjusts weights accordingly\n",
    "\t\tw[1] = w[1] + delta * learning_rate\n",
    "\n",
    "\t\t# print(w[0])\n",
    "\n",
    "\n",
    "\tprint(\"----\")\n",
    "\n",
    "\tif (global_delta == 0):\n",
    "\t\tbreak"
   ]
  },
  {
   "cell_type": "markdown",
   "metadata": {},
   "source": [
    "On our first runthrough, everything is predicted correctly except for [1, 1]. "
   ]
  },
  {
   "cell_type": "code",
   "execution_count": 190,
   "metadata": {},
   "outputs": [
    {
     "name": "stdout",
     "output_type": "stream",
     "text": [
      "[0.40000000000000013, 0.30000000000000016]\n"
     ]
    }
   ],
   "source": [
    "print(w)"
   ]
  },
  {
   "cell_type": "markdown",
   "metadata": {},
   "source": [
    "These are our Final Weights"
   ]
  }
 ],
 "metadata": {
  "kernelspec": {
   "display_name": "Python 3",
   "language": "python",
   "name": "python3"
  },
  "language_info": {
   "codemirror_mode": {
    "name": "ipython",
    "version": 3
   },
   "file_extension": ".py",
   "mimetype": "text/x-python",
   "name": "python",
   "nbconvert_exporter": "python",
   "pygments_lexer": "ipython3",
   "version": "3.12.1"
  }
 },
 "nbformat": 4,
 "nbformat_minor": 2
}
