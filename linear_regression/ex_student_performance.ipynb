{
 "cells": [
  {
   "cell_type": "markdown",
   "metadata": {},
   "source": [
    "Hello! This is an example of multiple linear regression to predict student grades!\n",
    "Features considered include study time, age, travel time, and more!"
   ]
  },
  {
   "cell_type": "markdown",
   "metadata": {},
   "source": [
    "**Imports**"
   ]
  },
  {
   "cell_type": "code",
   "execution_count": 41,
   "metadata": {},
   "outputs": [],
   "source": [
    "import pandas as pd\n",
    "import torch\n",
    "import torch.nn as nn\n",
    "import pandas as pd\n",
    "from sklearn.model_selection import train_test_split\n",
    "from sklearn.preprocessing import StandardScaler\n",
    "import matplotlib.pyplot as plt\n",
    "from sklearn.metrics import r2_score"
   ]
  },
  {
   "cell_type": "markdown",
   "metadata": {},
   "source": [
    "**Load Dataset**"
   ]
  },
  {
   "cell_type": "code",
   "execution_count": 42,
   "metadata": {},
   "outputs": [],
   "source": [
    "\n",
    "# Load dataset\n",
    "df = pd.read_csv('data/student_data.csv')\n",
    "\n",
    "# Preprocessing\n",
    "# Drops rows with missing values for simplicity\n",
    "df = df.dropna()"
   ]
  },
  {
   "cell_type": "markdown",
   "metadata": {},
   "source": [
    "**Define Features**\n",
    "These are taken from student performance dataset, some features include age, family size, and studytime\n",
    "Our goal is to predict a student's final grade (target variable), which is G3."
   ]
  },
  {
   "cell_type": "code",
   "execution_count": 43,
   "metadata": {},
   "outputs": [],
   "source": [
    "# ALl provided features\n",
    "features = ['school', 'sex', 'age', 'address', 'famsize', 'Pstatus', 'Medu', 'Fedu', \n",
    "            'Mjob', 'Fjob', 'reason', 'guardian', 'traveltime', 'studytime', 'failures', \n",
    "            'schoolsup', 'famsup', 'paid', 'activities', 'nursery', 'higher', 'internet', \n",
    "            'romantic', 'famrel', 'freetime', 'goout', 'Dalc', 'Walc', 'health', 'absences', \n",
    "            'G1', 'G2']\n",
    "\n",
    "# Target variable (final grade G3)\n",
    "target = 'G3'"
   ]
  },
  {
   "cell_type": "markdown",
   "metadata": {},
   "source": [
    "**Categorical Features** \n",
    "Some of these input features are categorical, meaning that their data values are non-numerical (e.g school).\n",
    "Pandas"
   ]
  },
  {
   "cell_type": "code",
   "execution_count": 44,
   "metadata": {},
   "outputs": [],
   "source": [
    "# Encode categorical features using pandas' Categorical codes,\n",
    "categorical_features = ['school', 'sex', 'address', 'famsize', 'Pstatus', 'Mjob', \n",
    "                        'Fjob', 'reason', 'guardian', 'schoolsup', 'famsup', 'paid', \n",
    "                        'activities', 'nursery', 'higher', 'internet', 'romantic']\n",
    "\n",
    "# Each differet category is given a different code\n",
    "for col in categorical_features:\n",
    "    df[col] = pd.Categorical(df[col]).codes"
   ]
  },
  {
   "cell_type": "code",
   "execution_count": 45,
   "metadata": {},
   "outputs": [],
   "source": [
    "# Extract features and target \n",
    "X = df[features].values\n",
    "y = df[target].values"
   ]
  },
  {
   "cell_type": "code",
   "execution_count": 46,
   "metadata": {},
   "outputs": [],
   "source": [
    "\n",
    "# Split into training and test set,\n",
    "X_train, X_test, y_train, y_test = train_test_split(X, y, test_size=0.2, random_state=42)\n",
    "\n",
    "# Normalize the data\n",
    "# This Standardizes data so that each feature will have a mean of 0 and a standard deviation of 1; prevents\n",
    "scaler_X = StandardScaler() # from sklearn preprocessing\n",
    "scaler_y = StandardScaler()\n",
    "\n",
    "# Scales data \n",
    "X_train = scaler_X.fit_transform(X_train)\n",
    "X_test = scaler_X.transform(X_test)\n",
    "\n",
    "y_train = scaler_y.fit_transform(y_train.reshape(-1, 1))\n",
    "y_test = scaler_y.transform(y_test.reshape(-1, 1))\n",
    "\n",
    "# Convert data to PyTorch tensors\n",
    "X_train = torch.tensor(X_train, dtype=torch.float32) # \n",
    "X_test = torch.tensor(X_test, dtype=torch.float32)\n",
    "y_train = torch.tensor(y_train, dtype=torch.float32)\n",
    "y_test = torch.tensor(y_test, dtype=torch.float32)\n",
    "\n",
    "# Define the model\n",
    "class MultilinearRegression(nn.Module):\n",
    "    def __init__(self, input_dim):\n",
    "        super(MultilinearRegression, self).__init__()\n",
    "        self.linear = nn.Linear(input_dim, 1)  # Linear layer (input_dim -> 1 output)\n",
    "\n",
    "    def forward(self, x):\n",
    "        return self.linear(x)\n",
    "\n",
    "# Model, loss function, and optimizer\n",
    "input_dim = X_train.shape[1]\n",
    "model = MultilinearRegression(input_dim)\n",
    "\n",
    "criterion = nn.MSELoss()  # Mean Squared Error Loss USED \n",
    "\n",
    "# Optimizer selected in this case is Stochastic Gradient Descent\n",
    "optimizer = torch.optim.SGD(model.parameters(), lr=0.005) # learning ratedefined \n",
    "\n"
   ]
  },
  {
   "cell_type": "markdown",
   "metadata": {},
   "source": [
    "Adjusts the weights each time"
   ]
  },
  {
   "cell_type": "code",
   "execution_count": 47,
   "metadata": {},
   "outputs": [
    {
     "name": "stdout",
     "output_type": "stream",
     "text": [
      "Epoch [100/5000], Loss: 0.2851\n",
      "Epoch [200/5000], Loss: 0.1963\n",
      "Epoch [300/5000], Loss: 0.1714\n",
      "Epoch [400/5000], Loss: 0.1607\n",
      "Epoch [500/5000], Loss: 0.1548\n",
      "Epoch [600/5000], Loss: 0.1510\n",
      "Epoch [700/5000], Loss: 0.1484\n",
      "Epoch [800/5000], Loss: 0.1465\n",
      "Epoch [900/5000], Loss: 0.1451\n",
      "Epoch [1000/5000], Loss: 0.1440\n",
      "Epoch [1100/5000], Loss: 0.1432\n",
      "Epoch [1200/5000], Loss: 0.1425\n",
      "Epoch [1300/5000], Loss: 0.1420\n",
      "Epoch [1400/5000], Loss: 0.1416\n",
      "Epoch [1500/5000], Loss: 0.1413\n",
      "Epoch [1600/5000], Loss: 0.1411\n",
      "Epoch [1700/5000], Loss: 0.1409\n",
      "Epoch [1800/5000], Loss: 0.1408\n",
      "Epoch [1900/5000], Loss: 0.1407\n",
      "Epoch [2000/5000], Loss: 0.1406\n",
      "Epoch [2100/5000], Loss: 0.1406\n",
      "Epoch [2200/5000], Loss: 0.1405\n",
      "Epoch [2300/5000], Loss: 0.1405\n",
      "Epoch [2400/5000], Loss: 0.1404\n",
      "Epoch [2500/5000], Loss: 0.1404\n",
      "Epoch [2600/5000], Loss: 0.1404\n",
      "Epoch [2700/5000], Loss: 0.1404\n",
      "Epoch [2800/5000], Loss: 0.1404\n",
      "Epoch [2900/5000], Loss: 0.1404\n",
      "Epoch [3000/5000], Loss: 0.1404\n",
      "Epoch [3100/5000], Loss: 0.1404\n",
      "Epoch [3200/5000], Loss: 0.1404\n",
      "Epoch [3300/5000], Loss: 0.1404\n",
      "Epoch [3400/5000], Loss: 0.1404\n",
      "Epoch [3500/5000], Loss: 0.1404\n",
      "Epoch [3600/5000], Loss: 0.1404\n",
      "Epoch [3700/5000], Loss: 0.1404\n",
      "Epoch [3800/5000], Loss: 0.1403\n",
      "Epoch [3900/5000], Loss: 0.1403\n",
      "Epoch [4000/5000], Loss: 0.1403\n",
      "Epoch [4100/5000], Loss: 0.1403\n",
      "Epoch [4200/5000], Loss: 0.1403\n",
      "Epoch [4300/5000], Loss: 0.1403\n",
      "Epoch [4400/5000], Loss: 0.1403\n",
      "Epoch [4500/5000], Loss: 0.1403\n",
      "Epoch [4600/5000], Loss: 0.1403\n",
      "Epoch [4700/5000], Loss: 0.1403\n",
      "Epoch [4800/5000], Loss: 0.1403\n",
      "Epoch [4900/5000], Loss: 0.1403\n",
      "Epoch [5000/5000], Loss: 0.1403\n"
     ]
    }
   ],
   "source": [
    "# Training the model\n",
    "epochs = 5000\n",
    "for epoch in range(epochs):\n",
    "    model.train()\n",
    "\n",
    "    # Forward pass\n",
    "    y_pred = model(X_train)\n",
    "    \n",
    "    # Compute the loss\n",
    "    loss = criterion(y_pred, y_train)\n",
    "    \n",
    "    # Backpropagation and optimization\n",
    "    optimizer.zero_grad()\n",
    "    loss.backward()\n",
    "    optimizer.step()\n",
    "\n",
    "    if (epoch+1) % 100 == 0:\n",
    "        print(f'Epoch [{epoch+1}/{epochs}], Loss: {loss.item():.4f}')"
   ]
  },
  {
   "cell_type": "code",
   "execution_count": 48,
   "metadata": {},
   "outputs": [
    {
     "name": "stdout",
     "output_type": "stream",
     "text": [
      "Test Loss: 0.2396\n",
      "Predicted Final Grades: [ 6.2837296 11.329752   3.028052   8.037034   8.556364 ]\n",
      "Actual Final Grades: [10. 12.  5. 10.  9.]\n"
     ]
    }
   ],
   "source": [
    "# Evaluation on the test set\n",
    "model.eval() # Sets the Model to evaluation mode\n",
    "with torch.no_grad():\n",
    "    # Forward pass to get model's predictions for test data\n",
    "    y_pred_test = model(X_test)\n",
    "    # Criterion is loss function; measures difference between actual and predicted values\n",
    "    test_loss = criterion(y_pred_test, y_test)\n",
    "    print(f'Test Loss: {test_loss.item():.4f}')\n",
    "\n",
    "# Inverse the scaling of predictions and targets for comparison\n",
    "# We previously scaeled data, now we are scaling back\n",
    "y_pred_test = scaler_y.inverse_transform(y_pred_test.numpy())\n",
    "y_test = scaler_y.inverse_transform(y_test.numpy())\n",
    "\n",
    "# Display some results\n",
    "print(f'Predicted Final Grades: {y_pred_test[:5].flatten()}')\n",
    "print(f'Actual Final Grades: {y_test[:5].flatten()}')"
   ]
  },
  {
   "cell_type": "markdown",
   "metadata": {},
   "source": [
    "**Metrics**: We can measure the model's performance with R-squared (measuring variability). Range of R-squared function is [0, 1]"
   ]
  },
  {
   "cell_type": "code",
   "execution_count": 49,
   "metadata": {},
   "outputs": [
    {
     "name": "stdout",
     "output_type": "stream",
     "text": [
      "R-squared: 0.7546\n"
     ]
    }
   ],
   "source": [
    "r2 = r2_score(y_test, y_pred_test)\n",
    "print(f'R-squared: {r2:.4f}')"
   ]
  },
  {
   "cell_type": "markdown",
   "metadata": {},
   "source": [
    "Metrics: Adjusted R-Squared"
   ]
  },
  {
   "cell_type": "code",
   "execution_count": 50,
   "metadata": {},
   "outputs": [
    {
     "name": "stdout",
     "output_type": "stream",
     "text": [
      "Adjusted R-squared: 0.5839\n"
     ]
    }
   ],
   "source": [
    "# Number of data points and number of predictors (features)\n",
    "n = X_test.shape[0]  # Number of data points\n",
    "p = X_test.shape[1]  # Number of predictors\n",
    "\n",
    "# Calculate Adjusted R-squared\n",
    "adjusted_r2 = 1 - ((1 - r2) * (n - 1)) / (n - p - 1)\n",
    "\n",
    "print(f'Adjusted R-squared: {adjusted_r2:.4f}')"
   ]
  },
  {
   "cell_type": "markdown",
   "metadata": {},
   "source": [
    "**Visualizations**"
   ]
  },
  {
   "cell_type": "code",
   "execution_count": 51,
   "metadata": {},
   "outputs": [
    {
     "data": {
      "image/png": "[encoded data removed]",
      "text/plain": [
       "<Figure size 1000x500 with 1 Axes>"
      ]
     },
     "metadata": {},
     "output_type": "display_data"
    }
   ],
   "source": [
    "# VPlotting predicted vs actual final grades\n",
    "plt.figure(figsize=(10, 5))\n",
    "plt.scatter(y_test, y_pred_test, alpha=0.6)\n",
    "plt.title('Predicted vs Actual Final Grades')\n",
    "plt.xlabel('Actual Final Grades')\n",
    "plt.ylabel('Predicted Final Grades')\n",
    "plt.plot([min(y_test), max(y_test)], [min(y_test), max(y_test)], color='red')  # Line of perfect prediction\n",
    "plt.grid(True)\n",
    "plt.show()"
   ]
  }
 ],
 "metadata": {
  "kernelspec": {
   "display_name": "Python 3",
   "language": "python",
   "name": "python3"
  },
  "language_info": {
   "codemirror_mode": {
    "name": "ipython",
    "version": 3
   },
   "file_extension": ".py",
   "mimetype": "text/x-python",
   "name": "python",
   "nbconvert_exporter": "python",
   "pygments_lexer": "ipython3",
   "version": "3.12.1"
  }
 },
 "nbformat": 4,
 "nbformat_minor": 2
}
