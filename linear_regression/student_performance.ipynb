{
 "cells": [
  {
   "cell_type": "code",
   "execution_count": null,
   "id": "fb48ac67-9f31-48f5-b9f1-70217f690fc2",
   "metadata": {},
   "outputs": [],
   "source": []
  }
 ],
 "metadata": {
  "kernelspec": {
   "display_name": "",
   "name": ""
  },
  "language_info": {
   "name": ""
  }
 },
 "nbformat": 4,
 "nbformat_minor": 5
}
